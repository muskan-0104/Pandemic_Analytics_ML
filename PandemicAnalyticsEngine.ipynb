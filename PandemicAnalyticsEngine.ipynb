{
 "cells": [
  {
   "cell_type": "code",
   "execution_count": 6,
   "metadata": {},
   "outputs": [],
   "source": []
  },
  {
   "cell_type": "code",
   "execution_count": 9,
   "metadata": {},
   "outputs": [
    {
     "ename": "TclError",
     "evalue": "cannot use geometry manager grid inside . which already has slaves managed by pack",
     "output_type": "error",
     "traceback": [
      "\u001b[1;31m---------------------------------------------------------------------------\u001b[0m",
      "\u001b[1;31mTclError\u001b[0m                                  Traceback (most recent call last)",
      "\u001b[1;32m<ipython-input-9-5cc42be9eb9a>\u001b[0m in \u001b[0;36m<module>\u001b[1;34m\u001b[0m\n\u001b[0;32m     24\u001b[0m \u001b[1;33m\u001b[0m\u001b[0m\n\u001b[0;32m     25\u001b[0m \u001b[0mmb\u001b[0m\u001b[1;33m=\u001b[0m  \u001b[0mMenubutton\u001b[0m \u001b[1;33m(\u001b[0m \u001b[0mwindow\u001b[0m\u001b[1;33m,\u001b[0m \u001b[0mtext\u001b[0m\u001b[1;33m=\u001b[0m\u001b[1;34m\"condiments\"\u001b[0m\u001b[1;33m,\u001b[0m \u001b[0mrelief\u001b[0m\u001b[1;33m=\u001b[0m\u001b[0mRAISED\u001b[0m \u001b[1;33m)\u001b[0m\u001b[1;33m\u001b[0m\u001b[1;33m\u001b[0m\u001b[0m\n\u001b[1;32m---> 26\u001b[1;33m \u001b[0mmb\u001b[0m\u001b[1;33m.\u001b[0m\u001b[0mgrid\u001b[0m\u001b[1;33m(\u001b[0m\u001b[1;33m)\u001b[0m\u001b[1;33m\u001b[0m\u001b[1;33m\u001b[0m\u001b[0m\n\u001b[0m\u001b[0;32m     27\u001b[0m \u001b[0mmb\u001b[0m\u001b[1;33m.\u001b[0m\u001b[0mmenu\u001b[0m \u001b[1;33m=\u001b[0m  \u001b[0mMenu\u001b[0m \u001b[1;33m(\u001b[0m \u001b[0mmb\u001b[0m\u001b[1;33m,\u001b[0m \u001b[0mtearoff\u001b[0m \u001b[1;33m=\u001b[0m \u001b[1;36m0\u001b[0m \u001b[1;33m)\u001b[0m\u001b[1;33m\u001b[0m\u001b[1;33m\u001b[0m\u001b[0m\n\u001b[0;32m     28\u001b[0m \u001b[0mmb\u001b[0m\u001b[1;33m[\u001b[0m\u001b[1;34m\"menu\"\u001b[0m\u001b[1;33m]\u001b[0m \u001b[1;33m=\u001b[0m  \u001b[0mmb\u001b[0m\u001b[1;33m.\u001b[0m\u001b[0mmenu\u001b[0m\u001b[1;33m\u001b[0m\u001b[1;33m\u001b[0m\u001b[0m\n",
      "\u001b[1;32m~\\Anaconda3\\lib\\tkinter\\__init__.py\u001b[0m in \u001b[0;36mgrid_configure\u001b[1;34m(self, cnf, **kw)\u001b[0m\n\u001b[0;32m   2224\u001b[0m         self.tk.call(\n\u001b[0;32m   2225\u001b[0m               \u001b[1;33m(\u001b[0m\u001b[1;34m'grid'\u001b[0m\u001b[1;33m,\u001b[0m \u001b[1;34m'configure'\u001b[0m\u001b[1;33m,\u001b[0m \u001b[0mself\u001b[0m\u001b[1;33m.\u001b[0m\u001b[0m_w\u001b[0m\u001b[1;33m)\u001b[0m\u001b[1;33m\u001b[0m\u001b[1;33m\u001b[0m\u001b[0m\n\u001b[1;32m-> 2226\u001b[1;33m               + self._options(cnf, kw))\n\u001b[0m\u001b[0;32m   2227\u001b[0m     \u001b[0mgrid\u001b[0m \u001b[1;33m=\u001b[0m \u001b[0mconfigure\u001b[0m \u001b[1;33m=\u001b[0m \u001b[0mconfig\u001b[0m \u001b[1;33m=\u001b[0m \u001b[0mgrid_configure\u001b[0m\u001b[1;33m\u001b[0m\u001b[1;33m\u001b[0m\u001b[0m\n\u001b[0;32m   2228\u001b[0m     \u001b[0mbbox\u001b[0m \u001b[1;33m=\u001b[0m \u001b[0mgrid_bbox\u001b[0m \u001b[1;33m=\u001b[0m \u001b[0mMisc\u001b[0m\u001b[1;33m.\u001b[0m\u001b[0mgrid_bbox\u001b[0m\u001b[1;33m\u001b[0m\u001b[1;33m\u001b[0m\u001b[0m\n",
      "\u001b[1;31mTclError\u001b[0m: cannot use geometry manager grid inside . which already has slaves managed by pack"
     ]
    }
   ],
   "source": [
    "from tkinter import *\n",
    "window=Tk()\n",
    "window.title(\"Pandemic Analytics\")\n",
    "canvas=Canvas(window,height=500,width=500,background=\"gray10\")\n",
    "canvas.pack()\n",
    "canvas.create_text(250,50,fill=\"white\",font=\"Times 15 bold\",text=\"Pandemic Analyzer\",)\n",
    "def CMR(deaths,population):\n",
    "    cmr=int(deaths)/int(population)\n",
    "    canvas.delete('i1')\n",
    "    canvas.delete('i2')\n",
    "    canvas.delete('c1')\n",
    "    canvas.delete('c2')\n",
    "    canvas.create_text(150,450,fill=\"white\",font=\"Times 15 bold\",text=\"Value of CMR\",tag='c1')\n",
    "    canvas.create_text(300,450,fill=\"white\",font=\"Times 15 bold\",text=cmr,tag='c2')\n",
    "\n",
    "\n",
    "def IFR(infected,deaths):\n",
    "    ifr=(int(infected)/int(deaths))*100\n",
    "    canvas.delete('i1')\n",
    "    canvas.delete('i2')\n",
    "    canvas.delete('c1')\n",
    "    canvas.delete('c2')\n",
    "    canvas.create_text(150,450,fill=\"white\",font=\"Times 15 bold\",text=\"Value of IFR\",tag='i1')\n",
    "    canvas.create_text(300,450,fill=\"white\",font=\"Times 15 bold\",text=ifr,tag='i2')\n",
    "\n",
    "\n",
    "ent1=Entry(window,bg=\"yellow\")\n",
    "ent2=Entry(window,bg=\"green\")\n",
    "ent3=Entry(window,bg=\"red\")\n",
    "w1 = Label(window, text=\"Infected\",height=2,bg='yellow')\n",
    "w2 = Label(window, text=\"Recovered\",height=2,bg='green')\n",
    "w3 = Label(window, text=\"Deceased\",height=2,bg='red')\n",
    "\n",
    "canvas.create_window(300,100,window=ent1)\n",
    "canvas.create_window(300,200,window=ent2)\n",
    "canvas.create_window(300,300,window=ent3)\n",
    "canvas.create_window(100,100,window=w1)\n",
    "canvas.create_window(100,200,window=w2)\n",
    "canvas.create_window(100,300,window=w3)\n",
    "\n",
    "btn1=Button(window,text=\"IMR\",width=25,height=4,command=IFR,fg='white',bg='gray10',relief='flat',overrelief='raised',bd=3)\n",
    "btn2=Button(window,text=\"CMR\",width=25,height=4,command=CMR,fg='white',bg='gray10',relief='flat',overrelief='raised',bd=3)\n",
    "\n",
    "canvas.create_window(100,400,window=btn1)\n",
    "canvas.create_window(300,400,window=btn2)\n",
    "\n",
    "btn1.config(command=lambda:IFR(ent1.get(),ent3.get()))\n",
    "btn2.config(command=lambda:CMR(ent3.get(),ent1.get()))\n",
    "    \n",
    "\n",
    "\n",
    "window.mainloop()"
   ]
  },
  {
   "cell_type": "code",
   "execution_count": null,
   "metadata": {},
   "outputs": [],
   "source": []
  },
  {
   "cell_type": "code",
   "execution_count": null,
   "metadata": {},
   "outputs": [],
   "source": []
  }
 ],
 "metadata": {
  "kernelspec": {
   "display_name": "Python 3",
   "language": "python",
   "name": "python3"
  },
  "language_info": {
   "codemirror_mode": {
    "name": "ipython",
    "version": 3
   },
   "file_extension": ".py",
   "mimetype": "text/x-python",
   "name": "python",
   "nbconvert_exporter": "python",
   "pygments_lexer": "ipython3",
   "version": "3.7.1"
  }
 },
 "nbformat": 4,
 "nbformat_minor": 2
}
