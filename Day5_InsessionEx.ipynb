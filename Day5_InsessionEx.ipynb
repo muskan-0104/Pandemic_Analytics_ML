{
 "cells": [
  {
   "cell_type": "code",
   "execution_count": 6,
   "metadata": {},
   "outputs": [
    {
     "data": {
      "text/plain": [
       "{'whiskers': [<matplotlib.lines.Line2D at 0xd4d73a0b70>,\n",
       "  <matplotlib.lines.Line2D at 0xd4d73a0eb8>],\n",
       " 'caps': [<matplotlib.lines.Line2D at 0xd4d73a0f98>,\n",
       "  <matplotlib.lines.Line2D at 0xd4d73aa588>],\n",
       " 'boxes': [<matplotlib.lines.Line2D at 0xd4d73a0780>],\n",
       " 'medians': [<matplotlib.lines.Line2D at 0xd4d73aa8d0>],\n",
       " 'fliers': [<matplotlib.lines.Line2D at 0xd4d73aac18>],\n",
       " 'means': []}"
      ]
     },
     "execution_count": 6,
     "metadata": {},
     "output_type": "execute_result"
    },
    {
     "data": {
      "image/png": "[encoded data removed]",
      "text/plain": [
       "<Figure size 432x288 with 1 Axes>"
      ]
     },
     "metadata": {
      "needs_background": "light"
     },
     "output_type": "display_data"
    }
   ],
   "source": [
    "import matplotlib.pyplot as plt\n",
    "import pandas as pd\n",
    "import numpy as np\n",
    "data=pd.read_csv('covid_19_india.csv')\n",
    "plt.boxplot(data['Cured']/ data['Deaths'])\n"
   ]
  },
  {
   "cell_type": "code",
   "execution_count": null,
   "metadata": {},
   "outputs": [],
   "source": []
  },
  {
   "cell_type": "code",
   "execution_count": null,
   "metadata": {},
   "outputs": [],
   "source": []
  },
  {
   "cell_type": "code",
   "execution_count": null,
   "metadata": {},
   "outputs": [],
   "source": []
  }
 ],
 "metadata": {
  "kernelspec": {
   "display_name": "Python 3",
   "language": "python",
   "name": "python3"
  },
  "language_info": {
   "codemirror_mode": {
    "name": "ipython",
    "version": 3
   },
   "file_extension": ".py",
   "mimetype": "text/x-python",
   "name": "python",
   "nbconvert_exporter": "python",
   "pygments_lexer": "ipython3",
   "version": "3.7.1"
  }
 },
 "nbformat": 4,
 "nbformat_minor": 2
}
